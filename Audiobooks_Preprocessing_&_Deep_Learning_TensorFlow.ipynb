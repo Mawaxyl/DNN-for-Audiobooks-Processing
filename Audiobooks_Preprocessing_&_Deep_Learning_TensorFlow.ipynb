{
  "cells": [
    {
      "cell_type": "markdown",
      "metadata": {
        "id": "view-in-github",
        "colab_type": "text"
      },
      "source": [
        "<a href=\"https://colab.research.google.com/github/Mawaxyl/DNN-for-Audiobooks-Processing/blob/main/Audiobooks_Preprocessing_%26_Deep_Learning_TensorFlow.ipynb\" target=\"_parent\"><img src=\"https://colab.research.google.com/assets/colab-badge.svg\" alt=\"Open In Colab\"/></a>"
      ]
    },
    {
      "cell_type": "markdown",
      "metadata": {
        "id": "CHb3BAB4n4ic"
      },
      "source": [
        "# Audiobooks business case"
      ]
    },
    {
      "cell_type": "markdown",
      "metadata": {
        "id": "g-lt-xqgn4ig"
      },
      "source": [
        "### Problem\n",
        "\n",
        "You are given data from an Audiobook App. Logically, it relates to the audio versions of books ONLY. Each customer in the database has made a purchase at least once, that's why he/she is in the database. We want to create a machine learning algorithm based on our available data that can predict if a customer will buy again from the Audiobook company.\n",
        "\n",
        "The main idea is that if a customer has a low probability of coming back, there is no reason to spend any money on advertising to him/her. If we can focus our efforts SOLELY on customers that are likely to convert again, we can make great savings. Moreover, this model can identify the most important metrics for a customer to come back again. Identifying new customers creates value and growth opportunities.\n",
        "\n",
        "You have a .csv summarizing the data. There are several variables: Customer ID, ), Book length overall (sum of the minute length of all purchases), Book length avg (average length in minutes of all purchases), Price paid_overall (sum of all purchases) ,Price Paid avg (average of all purchases), Review (a Boolean variable whether the customer left a review), Review out of 10 (if the customer left a review, his/her review out of 10, Total minutes listened, Completion (from 0 to 1), Support requests (number of support requests; everything from forgotten password to assistance for using the App), and Last visited minus purchase date (in days).\n",
        "\n",
        "These are the inputs (excluding customer ID, as it is completely arbitrary. It's more like a name, than a number).\n",
        "\n",
        "The targets are a Boolean variable (0 or 1). We are taking a period of 2 years in our inputs, and the next 6 months as targets. So, in fact, we are predicting if: based on the last 2 years of activity and engagement, a customer will convert in the next 6 months. 6 months sounds like a reasonable time. If they don't convert after 6 months, chances are they've gone to a competitor or didn't like the Audiobook way of digesting information.\n",
        "\n",
        "The task is simple: create a machine learning algorithm, which is able to predict if a customer will buy again.\n",
        "\n",
        "This is a classification problem with two classes: won't buy and will buy, represented by 0s and 1s.\n",
        "\n",
        "Let Go!"
      ]
    },
    {
      "cell_type": "markdown",
      "metadata": {
        "id": "6mvwmwWPn4ii"
      },
      "source": [
        "### Extract the data from the csv"
      ]
    },
    {
      "cell_type": "code",
      "execution_count": 1,
      "metadata": {
        "id": "oQVlMRuTn4ii"
      },
      "outputs": [],
      "source": [
        "import numpy as np\n",
        "\n",
        "# We will use the sklearn preprocessing library, as it will be easier to standardize the data.\n",
        "from sklearn import preprocessing\n",
        "\n",
        "# Load the data\n",
        "raw_csv_data = np.loadtxt('Audiobooks_data.csv',delimiter=',')\n",
        "\n",
        "# The inputs are all columns in the csv, except for the first one [:,0]\n",
        "# (which is just the arbitrary customer IDs that bear no useful information),\n",
        "# and the last one [:,-1] (which is our targets)\n",
        "\n",
        "unscaled_inputs_all = raw_csv_data[:,1:-1]\n",
        "\n",
        "# The targets are in the last column. That's how datasets are conventionally organized.\n",
        "targets_all = raw_csv_data[:,-1]"
      ]
    },
    {
      "cell_type": "code",
      "execution_count": 2,
      "metadata": {
        "id": "3f8wrqfdn4ik"
      },
      "outputs": [],
      "source": [
        "# When the data was collected it was actually arranged by date\n",
        "# Shuffle the indices of the data, so the data is not arranged in any way when we feed it.\n",
        "# Since we will be batching, we want the data to be as randomly spread out as possible\n",
        "shuffled_indices = np.arange(unscaled_inputs_all.shape[0])\n",
        "np.random.shuffle(shuffled_indices)\n",
        "\n",
        "# Use the shuffled indices to shuffle the inputs and targets.\n",
        "unscaled_inputs_all = unscaled_inputs_all[shuffled_indices]\n",
        "targets_all = targets_all[shuffled_indices]"
      ]
    },
    {
      "cell_type": "markdown",
      "metadata": {
        "id": "ykr1Cwbgn4il"
      },
      "source": [
        "### Balance the dataset"
      ]
    },
    {
      "cell_type": "code",
      "execution_count": 3,
      "metadata": {
        "id": "W61Lqj4An4il"
      },
      "outputs": [],
      "source": [
        "# Count how many targets are 1 (meaning that the customer did convert)\n",
        "num_one_targets = int(np.sum(targets_all))\n",
        "\n",
        "# Set a counter for targets that are 0 (meaning that the customer did not convert)\n",
        "zero_targets_counter = 0\n",
        "\n",
        "# We want to create a \"balanced\" dataset, so we will have to remove some input/target pairs.\n",
        "# Declare a variable that will do that:\n",
        "indices_to_remove = []\n",
        "\n",
        "# Count the number of targets that are 0.\n",
        "# Once there are as many 0s as 1s, mark entries where the target is 0.\n",
        "for i in range(targets_all.shape[0]):\n",
        "    if targets_all[i] == 0:\n",
        "        zero_targets_counter += 1\n",
        "        if zero_targets_counter > num_one_targets:\n",
        "            indices_to_remove.append(i)\n",
        "\n",
        "# Create two new variables, one that will contain the inputs, and one that will contain the targets.\n",
        "# We delete all indices that we marked \"to remove\" in the loop above.\n",
        "unscaled_inputs_equal_priors = np.delete(unscaled_inputs_all, indices_to_remove, axis=0)\n",
        "targets_equal_priors = np.delete(targets_all, indices_to_remove, axis=0)"
      ]
    },
    {
      "cell_type": "markdown",
      "metadata": {
        "id": "PEzqXNtpn4im"
      },
      "source": [
        "### Standardize the inputs"
      ]
    },
    {
      "cell_type": "code",
      "execution_count": 4,
      "metadata": {
        "id": "J9pm3Zgmn4im"
      },
      "outputs": [],
      "source": [
        "# That's the only place we use sklearn functionality. We will take advantage of its preprocessing capabilities\n",
        "# It's a simple line of code, which standardizes the inputs, as we explained in one of the lectures.\n",
        "# At the end of the business case, you can try to run the algorithm WITHOUT this line of code.\n",
        "# The result will be interesting.\n",
        "scaled_inputs = preprocessing.scale(unscaled_inputs_equal_priors)"
      ]
    },
    {
      "cell_type": "markdown",
      "metadata": {
        "id": "2prbCdqSn4im"
      },
      "source": [
        "### Shuffle the data"
      ]
    },
    {
      "cell_type": "code",
      "execution_count": 5,
      "metadata": {
        "id": "j7JBmvs0n4in"
      },
      "outputs": [],
      "source": [
        "# When the data was collected it was actually arranged by date\n",
        "# Shuffle the indices of the data, so the data is not arranged in any way when we feed it.\n",
        "# Since we will be batching, we want the data to be as randomly spread out as possible\n",
        "shuffled_indices = np.arange(scaled_inputs.shape[0])\n",
        "np.random.shuffle(shuffled_indices)\n",
        "\n",
        "# Use the shuffled indices to shuffle the inputs and targets.\n",
        "shuffled_inputs = scaled_inputs[shuffled_indices]\n",
        "shuffled_targets = targets_equal_priors[shuffled_indices]"
      ]
    },
    {
      "cell_type": "markdown",
      "metadata": {
        "id": "6iMyTk_7n4in"
      },
      "source": [
        "### Split the dataset into train, validation, and test"
      ]
    },
    {
      "cell_type": "code",
      "execution_count": 6,
      "metadata": {
        "colab": {
          "base_uri": "https://localhost:8080/"
        },
        "id": "o1zDynhLn4io",
        "outputId": "9752b189-4251-47e6-c34a-384dcd67d771"
      },
      "outputs": [
        {
          "output_type": "stream",
          "name": "stdout",
          "text": [
            "1774.0 3579 0.4956691813355686\n",
            "225.0 447 0.5033557046979866\n",
            "238.0 448 0.53125\n"
          ]
        }
      ],
      "source": [
        "# Count the total number of samples\n",
        "samples_count = shuffled_inputs.shape[0]\n",
        "\n",
        "# Count the samples in each subset, assuming we want 80-10-10 distribution of training, validation, and test.\n",
        "# Naturally, the numbers are integers.\n",
        "train_samples_count = int(0.8 * samples_count)\n",
        "validation_samples_count = int(0.1 * samples_count)\n",
        "\n",
        "# The 'test' dataset contains all remaining data.\n",
        "test_samples_count = samples_count - train_samples_count - validation_samples_count\n",
        "\n",
        "# Create variables that record the inputs and targets for training\n",
        "# In our shuffled dataset, they are the first \"train_samples_count\" observations\n",
        "train_inputs = shuffled_inputs[:train_samples_count]\n",
        "train_targets = shuffled_targets[:train_samples_count]\n",
        "\n",
        "# Create variables that record the inputs and targets for validation.\n",
        "# They are the next \"validation_samples_count\" observations, folllowing the \"train_samples_count\" we already assigned\n",
        "validation_inputs = shuffled_inputs[train_samples_count:train_samples_count+validation_samples_count]\n",
        "validation_targets = shuffled_targets[train_samples_count:train_samples_count+validation_samples_count]\n",
        "\n",
        "# Create variables that record the inputs and targets for test.\n",
        "# They are everything that is remaining.\n",
        "test_inputs = shuffled_inputs[train_samples_count+validation_samples_count:]\n",
        "test_targets = shuffled_targets[train_samples_count+validation_samples_count:]\n",
        "\n",
        "# We balanced our dataset to be 50-50 (for targets 0 and 1), but the training, validation, and test were\n",
        "# taken from a shuffled dataset. Check if they are balanced, too. Note that each time you rerun this code,\n",
        "# you will get different values, as each time they are shuffled randomly.\n",
        "# Normally you preprocess ONCE, so you need not rerun this code once it is done.\n",
        "# If you rerun this whole sheet, the npzs will be overwritten with your newly preprocessed data.\n",
        "\n",
        "# Print the number of targets that are 1s, the total number of samples, and the proportion for training, validation, and test.\n",
        "print(np.sum(train_targets), train_samples_count, np.sum(train_targets) / train_samples_count)\n",
        "print(np.sum(validation_targets), validation_samples_count, np.sum(validation_targets) / validation_samples_count)\n",
        "print(np.sum(test_targets), test_samples_count, np.sum(test_targets) / test_samples_count)"
      ]
    },
    {
      "cell_type": "markdown",
      "metadata": {
        "id": "6EehNvV6n4iq"
      },
      "source": [
        "### Save the three datasets in *.npz"
      ]
    },
    {
      "cell_type": "code",
      "execution_count": 7,
      "metadata": {
        "id": "npNEmH43n4iq"
      },
      "outputs": [],
      "source": [
        "# Save the three datasets in *.npz.\n",
        "# In the next lesson, you will see that it is extremely valuable to name them in such a coherent way!\n",
        "\n",
        "np.savez('Audiobooks_data_train', inputs=train_inputs, targets=train_targets)\n",
        "np.savez('Audiobooks_data_validation', inputs=validation_inputs, targets=validation_targets)\n",
        "np.savez('Audiobooks_data_test', inputs=test_inputs, targets=test_targets)"
      ]
    },
    {
      "cell_type": "markdown",
      "metadata": {
        "id": "gnAnkhdfn4iq"
      },
      "source": [
        "## Create the machine learning algorithm\n",
        "\n",
        "### Import the relevant libraries"
      ]
    },
    {
      "cell_type": "code",
      "execution_count": 8,
      "metadata": {
        "id": "CjfWkXgTn4ir"
      },
      "outputs": [],
      "source": [
        "# we must import the libraries once again since we haven't imported them in this file\n",
        "import numpy as np\n",
        "import tensorflow as tf"
      ]
    },
    {
      "cell_type": "markdown",
      "metadata": {
        "id": "g8aXHCFMn4is"
      },
      "source": [
        "### Data"
      ]
    },
    {
      "cell_type": "code",
      "execution_count": 9,
      "metadata": {
        "colab": {
          "base_uri": "https://localhost:8080/"
        },
        "id": "I3WSQNrQn4is",
        "outputId": "1d358d61-8bd8-41dd-e1fe-a67eaaaf1167"
      },
      "outputs": [
        {
          "output_type": "stream",
          "name": "stderr",
          "text": [
            "<ipython-input-9-447d6e979645>:6: DeprecationWarning: `np.float` is a deprecated alias for the builtin `float`. To silence this warning, use `float` by itself. Doing this will not modify any behavior and is safe. If you specifically wanted the numpy scalar type, use `np.float64` here.\n",
            "Deprecated in NumPy 1.20; for more details and guidance: https://numpy.org/devdocs/release/1.20.0-notes.html#deprecations\n",
            "  train_inputs = npz['inputs'].astype(np.float)\n",
            "<ipython-input-9-447d6e979645>:8: DeprecationWarning: `np.int` is a deprecated alias for the builtin `int`. To silence this warning, use `int` by itself. Doing this will not modify any behavior and is safe. When replacing `np.int`, you may wish to use e.g. `np.int64` or `np.int32` to specify the precision. If you wish to review your current use, check the release note link for additional information.\n",
            "Deprecated in NumPy 1.20; for more details and guidance: https://numpy.org/devdocs/release/1.20.0-notes.html#deprecations\n",
            "  train_targets = npz['targets'].astype(np.int)\n",
            "<ipython-input-9-447d6e979645>:13: DeprecationWarning: `np.float` is a deprecated alias for the builtin `float`. To silence this warning, use `float` by itself. Doing this will not modify any behavior and is safe. If you specifically wanted the numpy scalar type, use `np.float64` here.\n",
            "Deprecated in NumPy 1.20; for more details and guidance: https://numpy.org/devdocs/release/1.20.0-notes.html#deprecations\n",
            "  validation_inputs, validation_targets = npz['inputs'].astype(np.float), npz['targets'].astype(np.int)\n",
            "<ipython-input-9-447d6e979645>:13: DeprecationWarning: `np.int` is a deprecated alias for the builtin `int`. To silence this warning, use `int` by itself. Doing this will not modify any behavior and is safe. When replacing `np.int`, you may wish to use e.g. `np.int64` or `np.int32` to specify the precision. If you wish to review your current use, check the release note link for additional information.\n",
            "Deprecated in NumPy 1.20; for more details and guidance: https://numpy.org/devdocs/release/1.20.0-notes.html#deprecations\n",
            "  validation_inputs, validation_targets = npz['inputs'].astype(np.float), npz['targets'].astype(np.int)\n",
            "<ipython-input-9-447d6e979645>:18: DeprecationWarning: `np.float` is a deprecated alias for the builtin `float`. To silence this warning, use `float` by itself. Doing this will not modify any behavior and is safe. If you specifically wanted the numpy scalar type, use `np.float64` here.\n",
            "Deprecated in NumPy 1.20; for more details and guidance: https://numpy.org/devdocs/release/1.20.0-notes.html#deprecations\n",
            "  test_inputs, test_targets = npz['inputs'].astype(np.float), npz['targets'].astype(np.int)\n",
            "<ipython-input-9-447d6e979645>:18: DeprecationWarning: `np.int` is a deprecated alias for the builtin `int`. To silence this warning, use `int` by itself. Doing this will not modify any behavior and is safe. When replacing `np.int`, you may wish to use e.g. `np.int64` or `np.int32` to specify the precision. If you wish to review your current use, check the release note link for additional information.\n",
            "Deprecated in NumPy 1.20; for more details and guidance: https://numpy.org/devdocs/release/1.20.0-notes.html#deprecations\n",
            "  test_inputs, test_targets = npz['inputs'].astype(np.float), npz['targets'].astype(np.int)\n"
          ]
        }
      ],
      "source": [
        "# let's create a temporary variable npz, where we will store each of the three Audiobooks datasets\n",
        "npz = np.load('Audiobooks_data_train.npz')\n",
        "\n",
        "# we extract the inputs using the keyword under which we saved them\n",
        "# to ensure that they are all floats, let's also take care of that\n",
        "train_inputs = npz['inputs'].astype(np.float)\n",
        "# targets must be int because of sparse_categorical_crossentropy (we want to be able to smoothly one-hot encode them)\n",
        "train_targets = npz['targets'].astype(np.int)\n",
        "\n",
        "# we load the validation data in the temporary variable\n",
        "npz = np.load('Audiobooks_data_validation.npz')\n",
        "# we can load the inputs and the targets in the same line\n",
        "validation_inputs, validation_targets = npz['inputs'].astype(np.float), npz['targets'].astype(np.int)\n",
        "\n",
        "# we load the test data in the temporary variable\n",
        "npz = np.load('Audiobooks_data_test.npz')\n",
        "# we create 2 variables that will contain the test inputs and the test targets\n",
        "test_inputs, test_targets = npz['inputs'].astype(np.float), npz['targets'].astype(np.int)"
      ]
    },
    {
      "cell_type": "markdown",
      "metadata": {
        "id": "AIwl86Pun4it"
      },
      "source": [
        "### Model\n",
        "Outline, optimizers, loss, early stopping and training"
      ]
    },
    {
      "cell_type": "code",
      "execution_count": 35,
      "metadata": {
        "colab": {
          "base_uri": "https://localhost:8080/"
        },
        "id": "Ght9LOcCn4it",
        "outputId": "f5aeb270-5c2b-4b47-ab01-5683032bf29d"
      },
      "outputs": [
        {
          "output_type": "stream",
          "name": "stdout",
          "text": [
            "Epoch 1/100\n",
            "36/36 - 1s - loss: 0.5741 - accuracy: 0.6994 - val_loss: 0.5107 - val_accuracy: 0.7315 - 1s/epoch - 39ms/step\n",
            "Epoch 2/100\n",
            "36/36 - 0s - loss: 0.4526 - accuracy: 0.7745 - val_loss: 0.4544 - val_accuracy: 0.7718 - 149ms/epoch - 4ms/step\n",
            "Epoch 3/100\n",
            "36/36 - 0s - loss: 0.4114 - accuracy: 0.7930 - val_loss: 0.4334 - val_accuracy: 0.7740 - 159ms/epoch - 4ms/step\n",
            "Epoch 4/100\n",
            "36/36 - 0s - loss: 0.3908 - accuracy: 0.8005 - val_loss: 0.4242 - val_accuracy: 0.7629 - 170ms/epoch - 5ms/step\n",
            "Epoch 5/100\n",
            "36/36 - 0s - loss: 0.3812 - accuracy: 0.8047 - val_loss: 0.4054 - val_accuracy: 0.7785 - 166ms/epoch - 5ms/step\n",
            "Epoch 6/100\n",
            "36/36 - 0s - loss: 0.3736 - accuracy: 0.8072 - val_loss: 0.4005 - val_accuracy: 0.7584 - 168ms/epoch - 5ms/step\n",
            "Epoch 7/100\n",
            "36/36 - 0s - loss: 0.3703 - accuracy: 0.8072 - val_loss: 0.3946 - val_accuracy: 0.7673 - 162ms/epoch - 5ms/step\n",
            "Epoch 8/100\n",
            "36/36 - 0s - loss: 0.3653 - accuracy: 0.8097 - val_loss: 0.3925 - val_accuracy: 0.7696 - 175ms/epoch - 5ms/step\n",
            "Epoch 9/100\n",
            "36/36 - 0s - loss: 0.3645 - accuracy: 0.8041 - val_loss: 0.3913 - val_accuracy: 0.7852 - 112ms/epoch - 3ms/step\n",
            "Epoch 10/100\n",
            "36/36 - 0s - loss: 0.3592 - accuracy: 0.8136 - val_loss: 0.3867 - val_accuracy: 0.7852 - 106ms/epoch - 3ms/step\n",
            "Epoch 11/100\n",
            "36/36 - 0s - loss: 0.3575 - accuracy: 0.8145 - val_loss: 0.3888 - val_accuracy: 0.7964 - 114ms/epoch - 3ms/step\n",
            "Epoch 12/100\n",
            "36/36 - 0s - loss: 0.3555 - accuracy: 0.8195 - val_loss: 0.3901 - val_accuracy: 0.7897 - 128ms/epoch - 4ms/step\n"
          ]
        },
        {
          "output_type": "execute_result",
          "data": {
            "text/plain": [
              "<keras.src.callbacks.History at 0x79699de95000>"
            ]
          },
          "metadata": {},
          "execution_count": 35
        }
      ],
      "source": [
        "# Set the input and output sizes\n",
        "input_size = 10\n",
        "output_size = 2\n",
        "# Use same hidden layer size for both hidden layers. Not a necessity.\n",
        "hidden_layer_size = 50\n",
        "\n",
        "# define how the model will look like\n",
        "model = tf.keras.Sequential([\n",
        "    # tf.keras.layers.Dense is basically implementing: output = activation(dot(input, weight) + bias)\n",
        "    # it takes several arguments, but the most important ones for us are the hidden_layer_size and the activation function\n",
        "    tf.keras.layers.Dense(hidden_layer_size, activation='relu'), # 1st hidden layer\n",
        "    tf.keras.layers.Dense(hidden_layer_size, activation='relu'), # 2nd hidden layer\n",
        "    #tf.keras.layers.Dense(hidden_layer_size, activation='relu'), # 3rd hidden layer\n",
        "    #tf.keras.layers.Dense(hidden_layer_size, activation='relu'), # 4th hidden layer\n",
        "    #tf.keras.layers.Dense(hidden_layer_size, activation='relu'), # 5th hidden layer\n",
        "    #tf.keras.layers.Dense(hidden_layer_size, activation='relu'), # 6th hidden layer\n",
        "    #tf.keras.layers.Dense(hidden_layer_size, activation='relu'), # 7th hidden layer\n",
        "    #tf.keras.layers.Dense(hidden_layer_size, activation='relu'), # 8th hidden layer\n",
        "    #tf.keras.layers.Dense(hidden_layer_size, activation='relu'), # 9th hidden layer\n",
        "    #tf.keras.layers.Dense(hidden_layer_size, activation='relu'), # 10th hidden layer\"\"\"\n",
        "    # the final layer is no different, we just make sure to activate it with softmax\n",
        "    tf.keras.layers.Dense(output_size, activation='softmax') # output layer\n",
        "])\n",
        "\n",
        "\n",
        "### Choose the optimizer and the loss function\n",
        "\n",
        "# we define the optimizer we'd like to use,\n",
        "# the loss function,\n",
        "# and the metrics we are interested in obtaining at each iteration\n",
        "model.compile(optimizer='adam', loss='sparse_categorical_crossentropy', metrics=['accuracy'])\n",
        "\n",
        "### Training\n",
        "# That's where we train the model we have built.\n",
        "\n",
        "# set the batch size\n",
        "batch_size = 100\n",
        "\n",
        "# set a maximum number of training epochs\n",
        "max_epochs = 100\n",
        "\n",
        "# set an early stopping mechanism\n",
        "# let's set patience=2, to be a bit tolerant against random validation loss increases\n",
        "early_stopping = tf.keras.callbacks.EarlyStopping(patience=2)\n",
        "\n",
        "# fit the model\n",
        "# note that this time the train, validation and test data are not iterable\n",
        "model.fit(train_inputs, # train inputs\n",
        "          train_targets, # train targets\n",
        "          batch_size=batch_size, # batch size\n",
        "          epochs=max_epochs, # epochs that we will train for (assuming early stopping doesn't kick in)\n",
        "          # callbacks are functions called by a task when a task is completed\n",
        "          # task here is to check if val_loss is increasing\n",
        "          callbacks=[early_stopping], # early stopping\n",
        "          validation_data=(validation_inputs, validation_targets), # validation data\n",
        "          verbose = 2 # making sure we get enough information about the training process\n",
        "          )"
      ]
    },
    {
      "cell_type": "markdown",
      "metadata": {
        "id": "ZiiOeBDGn4it"
      },
      "source": [
        "## Test the model\n",
        "\n",
        "After training on the training data and validating on the validation data, we test the final prediction power of our model by running it on the test dataset that the algorithm has NEVER seen before.\n",
        "\n",
        "It is very important to realize that fiddling with the hyperparameters overfits the validation dataset.\n",
        "\n",
        "The test is the absolute final instance. You should not test before you are completely done with adjusting your model.\n",
        "\n",
        "If you adjust your model after testing, you will start overfitting the test dataset, which will defeat its purpose."
      ]
    },
    {
      "cell_type": "code",
      "execution_count": 36,
      "metadata": {
        "colab": {
          "base_uri": "https://localhost:8080/"
        },
        "id": "gEcMtfVqn4iu",
        "outputId": "3439bdd9-4fc2-40a2-b0ef-9a8c97c2c688"
      },
      "outputs": [
        {
          "output_type": "stream",
          "name": "stdout",
          "text": [
            "14/14 [==============================] - 0s 2ms/step - loss: 0.3564 - accuracy: 0.8259\n"
          ]
        }
      ],
      "source": [
        "test_loss, test_accuracy = model.evaluate(test_inputs, test_targets)"
      ]
    },
    {
      "cell_type": "code",
      "execution_count": 37,
      "metadata": {
        "colab": {
          "base_uri": "https://localhost:8080/"
        },
        "id": "Od7klDzvn4iu",
        "outputId": "14ead900-c15c-4651-eaaa-f8e973219b4d"
      },
      "outputs": [
        {
          "output_type": "stream",
          "name": "stdout",
          "text": [
            "\n",
            "Test loss: 0.36. Test accuracy: 82.59%\n"
          ]
        }
      ],
      "source": [
        "print('\\nTest loss: {0:.2f}. Test accuracy: {1:.2f}%'.format(test_loss, test_accuracy*100.))"
      ]
    },
    {
      "cell_type": "markdown",
      "metadata": {
        "id": "GdOq9Dd1n4iu"
      },
      "source": [
        "Using the initial model and hyperparameters given in this notebook, the final test accuracy should be roughly around 82%.\n",
        "\n",
        "Note that each time the code is rerun, we get a different accuracy because each training is different.\n",
        "\n",
        "We have intentionally reached a suboptimal solution, so you can have space to build on it!"
      ]
    },
    {
      "cell_type": "code",
      "execution_count": null,
      "metadata": {
        "id": "jPUaMUyqn4iw"
      },
      "outputs": [],
      "source": [
        ""
      ]
    }
  ],
  "metadata": {
    "kernelspec": {
      "display_name": "Python 3 (ipykernel)",
      "language": "python",
      "name": "python3"
    },
    "language_info": {
      "codemirror_mode": {
        "name": "ipython",
        "version": 3
      },
      "file_extension": ".py",
      "mimetype": "text/x-python",
      "name": "python",
      "nbconvert_exporter": "python",
      "pygments_lexer": "ipython3",
      "version": "3.11.5"
    },
    "colab": {
      "provenance": [],
      "include_colab_link": true
    }
  },
  "nbformat": 4,
  "nbformat_minor": 0
}